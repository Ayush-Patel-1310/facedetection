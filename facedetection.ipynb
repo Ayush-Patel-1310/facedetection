{
 "cells": [
  {
   "cell_type": "code",
   "execution_count": 1,
   "id": "858028b3",
   "metadata": {},
   "outputs": [
    {
     "name": "stdout",
     "output_type": "stream",
     "text": [
      "Microsoft Windows [Version 10.0.22621.3296]\r\n",
      "(c) Microsoft Corporation. All rights reserved.\r\n",
      "\r\n",
      "(base) C:\\Users\\AYUSH\\police project>where python\n",
      "C:\\ProgramData\\Anaconda3\\python.exe\r\n",
      "C:\\Python312\\python.exe\r\n",
      "C:\\Users\\AYUSH\\Medical_project\\venv\\Scripts\\python.exe\r\n",
      "\r\n",
      "(base) C:\\Users\\AYUSH\\police project>"
     ]
    }
   ],
   "source": [
    "%%cmd \n",
    "where python\n"
   ]
  },
  {
   "cell_type": "code",
   "execution_count": 2,
   "id": "2d274132",
   "metadata": {},
   "outputs": [
    {
     "name": "stdout",
     "output_type": "stream",
     "text": [
      "Defaulting to user installation because normal site-packages is not writeable\n",
      "Requirement already satisfied: opencv-python in c:\\users\\ayush\\appdata\\roaming\\python\\python39\\site-packages (4.7.0.68)\n",
      "Requirement already satisfied: numpy>=1.17.3 in c:\\users\\ayush\\appdata\\roaming\\python\\python39\\site-packages (from opencv-python) (1.24.3)\n"
     ]
    }
   ],
   "source": [
    "!pip install opencv-python"
   ]
  },
  {
   "cell_type": "code",
   "execution_count": 3,
   "id": "c0cceb5f",
   "metadata": {},
   "outputs": [
    {
     "name": "stdout",
     "output_type": "stream",
     "text": [
      "Microsoft Windows [Version 10.0.22621.3296]\r\n",
      "(c) Microsoft Corporation. All rights reserved.\r\n",
      "\r\n",
      "(base) C:\\Users\\AYUSH\\police project>where python\n",
      "C:\\ProgramData\\Anaconda3\\python.exe\r\n",
      "C:\\Python312\\python.exe\r\n",
      "C:\\Users\\AYUSH\\Medical_project\\venv\\Scripts\\python.exe\r\n",
      "\r\n",
      "(base) C:\\Users\\AYUSH\\police project>"
     ]
    }
   ],
   "source": [
    "%%cmd \n",
    "where python\n"
   ]
  },
  {
   "cell_type": "code",
   "execution_count": 4,
   "id": "b67f7278",
   "metadata": {},
   "outputs": [
    {
     "name": "stdout",
     "output_type": "stream",
     "text": [
      "Defaulting to user installation because normal site-packages is not writeable\n",
      "Requirement already satisfied: opencv-python in c:\\users\\ayush\\appdata\\roaming\\python\\python39\\site-packages (4.7.0.68)\n",
      "Requirement already satisfied: numpy>=1.17.0 in c:\\users\\ayush\\appdata\\roaming\\python\\python39\\site-packages (from opencv-python) (1.24.3)\n"
     ]
    }
   ],
   "source": [
    "!pip install opencv-python"
   ]
  },
  {
   "cell_type": "code",
   "execution_count": 4,
   "id": "25de3f13",
   "metadata": {
    "scrolled": true
   },
   "outputs": [
    {
     "name": "stdout",
     "output_type": "stream",
     "text": [
      "Microsoft Windows [Version 10.0.22621.3296]\r\n",
      "(c) Microsoft Corporation. All rights reserved.\r\n",
      "\r\n",
      "(base) C:\\Users\\AYUSH\\police project>pip install cmake\n",
      "Defaulting to user installation because normal site-packages is not writeable\r\n",
      "Requirement already satisfied: cmake in c:\\users\\ayush\\appdata\\roaming\\python\\python39\\site-packages (3.26.4)\r\n",
      "\r\n",
      "(base) C:\\Users\\AYUSH\\police project>"
     ]
    }
   ],
   "source": [
    "%%cmd\n",
    "pip install cmake"
   ]
  },
  {
   "cell_type": "code",
   "execution_count": 5,
   "id": "03036fa0",
   "metadata": {},
   "outputs": [
    {
     "name": "stdout",
     "output_type": "stream",
     "text": [
      "Microsoft Windows [Version 10.0.22621.3296]\r\n",
      "(c) Microsoft Corporation. All rights reserved.\r\n",
      "\r\n",
      "(base) C:\\Users\\AYUSH\\police project>python --version\n",
      "Python 3.9.13\r\n",
      "\r\n",
      "(base) C:\\Users\\AYUSH\\police project>"
     ]
    }
   ],
   "source": [
    "%%cmd\n",
    "python --version"
   ]
  },
  {
   "cell_type": "code",
   "execution_count": 6,
   "id": "517fa473",
   "metadata": {},
   "outputs": [
    {
     "name": "stdout",
     "output_type": "stream",
     "text": [
      "Microsoft Windows [Version 10.0.22621.3296]\r\n",
      "(c) Microsoft Corporation. All rights reserved.\r\n",
      "\r\n",
      "(base) C:\\Users\\AYUSH\\police project>pip install \"C:/Users/AYUSH\\OneDrive/Documents/dlib package/dlib-19.22.99-cp39-cp39-win_amd64.whl\"\n",
      "Defaulting to user installation because normal site-packages is not writeable\r\n",
      "Processing c:\\users\\ayush\\onedrive\\documents\\dlib package\\dlib-19.22.99-cp39-cp39-win_amd64.whl\r\n",
      "dlib is already installed with the same version as the provided wheel. Use --force-reinstall to force an installation of the wheel.\r\n",
      "\r\n",
      "(base) C:\\Users\\AYUSH\\police project>"
     ]
    }
   ],
   "source": [
    "%%cmd\n",
    "pip install \"C:/Users/AYUSH\\OneDrive/Documents/dlib package/dlib-19.22.99-cp39-cp39-win_amd64.whl\""
   ]
  },
  {
   "cell_type": "code",
   "execution_count": 7,
   "id": "53b8cdf5",
   "metadata": {},
   "outputs": [
    {
     "name": "stdout",
     "output_type": "stream",
     "text": [
      "Microsoft Windows [Version 10.0.22621.3296]\r\n",
      "(c) Microsoft Corporation. All rights reserved.\r\n",
      "\r\n",
      "(base) C:\\Users\\AYUSH\\police project>pip install face-recognition\n",
      "Defaulting to user installation because normal site-packages is not writeable\r\n",
      "Requirement already satisfied: face-recognition in c:\\users\\ayush\\appdata\\roaming\\python\\python39\\site-packages (1.3.0)\r\n",
      "Requirement already satisfied: face-recognition-models>=0.3.0 in c:\\users\\ayush\\appdata\\roaming\\python\\python39\\site-packages (from face-recognition) (0.3.0)\r\n",
      "Requirement already satisfied: Pillow in c:\\programdata\\anaconda3\\lib\\site-packages (from face-recognition) (9.2.0)\r\n",
      "Requirement already satisfied: dlib>=19.7 in c:\\users\\ayush\\appdata\\roaming\\python\\python39\\site-packages (from face-recognition) (19.22.99)\r\n",
      "Requirement already satisfied: Click>=6.0 in c:\\programdata\\anaconda3\\lib\\site-packages (from face-recognition) (8.0.4)\r\n",
      "Requirement already satisfied: numpy in c:\\users\\ayush\\appdata\\roaming\\python\\python39\\site-packages (from face-recognition) (1.24.3)\r\n",
      "Requirement already satisfied: colorama in c:\\programdata\\anaconda3\\lib\\site-packages (from Click>=6.0->face-recognition) (0.4.5)\r\n",
      "\r\n",
      "(base) C:\\Users\\AYUSH\\police project>"
     ]
    }
   ],
   "source": [
    "%%cmd\n",
    "pip install face-recognition"
   ]
  },
  {
   "cell_type": "code",
   "execution_count": 8,
   "id": "1c180221",
   "metadata": {},
   "outputs": [],
   "source": [
    "import face_recognition\n",
    "import cv2\n",
    "import numpy as np"
   ]
  },
  {
   "cell_type": "code",
   "execution_count": 9,
   "id": "80282de6",
   "metadata": {},
   "outputs": [
    {
     "data": {
      "text/plain": [
       "<firebase_admin.App at 0x2b3554a4a60>"
      ]
     },
     "execution_count": 9,
     "metadata": {},
     "output_type": "execute_result"
    }
   ],
   "source": [
    "import firebase_admin\n",
    "from firebase_admin import credentials\n",
    "from firebase_admin import firestore\n",
    "\n",
    "cred = credentials.Certificate('serviceAccountKey.json')\n",
    "firebase_admin.initialize_app(cred)"
   ]
  },
  {
   "cell_type": "code",
   "execution_count": null,
   "id": "b86784f0",
   "metadata": {},
   "outputs": [
    {
     "name": "stdout",
     "output_type": "stream",
     "text": [
      "criminal detected\n"
     ]
    }
   ],
   "source": [
    "import face_recognition\n",
    "import cv2\n",
    "import numpy as np\n",
    "import datetime\n",
    "import base64\n",
    "from pytz import timezone\n",
    "\n",
    "db = firestore.client()\n",
    "\n",
    "def sharpen_image(image, kernel_size=(5, 5), sigma=0.8, amount=.5, threshold=3):\n",
    "    # Apply Gaussian blur to the image\n",
    "    blurred = cv2.GaussianBlur(image, kernel_size, sigma)\n",
    "\n",
    "    # Calculate the difference between the original and blurred images\n",
    "    mask = cv2.subtract(image, blurred)\n",
    "\n",
    "    # Scale the mask and add it back to the original image to sharpen\n",
    "    sharpened = cv2.addWeighted(image, 1 + amount, mask, -amount, threshold)\n",
    "\n",
    "    return sharpened\n",
    "\n",
    "# Load the image\n",
    "input_image_path = \"C:/Users/AYUSH/Downloads/WhatsApp Image 2024-02-05 at 23.50.00_ff846210.jpg\"\n",
    "image = cv2.imread(input_image_path)\n",
    "\n",
    "# Check if the image was loaded successfully\n",
    "if image is None:\n",
    "    print(\"Error: Unable to load the image.\")\n",
    "else:\n",
    "    # Sharpen the image (you can adjust the parameters as needed)\n",
    "    sharpened_image = sharpen_image(image, kernel_size=(5, 5), sigma=0.8, amount=.5, threshold=3)\n",
    "\n",
    "    # Display the original and sharpened images\n",
    "    cv2.imshow('Original Image', image)\n",
    "    cv2.imshow('Sharpened Image', sharpened_image)\n",
    "    \n",
    "\n",
    "srk_image = face_recognition.load_image_file(\"C:/Users/AYUSH/Downloads/WhatsApp Image 2024-02-05 at 23.50.00_ff846210.jpg\")\n",
    "srk_image_encoding = face_recognition.face_encodings(srk_image)[0]\n",
    "\n",
    "#cv2.imshow('srk_image_encoding', srk_image_encoding)\n",
    "\n",
    "known_face_encodings = [srk_image_encoding]\n",
    "known_face_names = [\"Criminal\"]\n",
    "c=0\n",
    "face_locations = []\n",
    "face_encodings = []\n",
    "face_names = []\n",
    "process_this_frame = True\n",
    "\n",
    "capture = cv2.VideoCapture(0)\n",
    "\n",
    "while True:\n",
    "    ret, frame = capture.read()\n",
    "\n",
    "    small_frame = cv2.resize(frame, (0, 0), fx=0.25, fy=0.25)\n",
    "    rgb_small_frame = small_frame[:, :, ::-1]\n",
    "    \n",
    "    if process_this_frame:\n",
    "        face_locations = face_recognition.face_locations(rgb_small_frame)\n",
    "        face_encodings = face_recognition.face_encodings(rgb_small_frame, face_locations)\n",
    "        face_names = []\n",
    "        for face_encoding in face_encodings:\n",
    "            matches = face_recognition.compare_faces(known_face_encodings, face_encoding)\n",
    "            name = \"Unknown\"\n",
    "            face_distances = face_recognition.face_distance(known_face_encodings, face_encoding)\n",
    "            best_match_index = np.argmin(face_distances)\n",
    "            if matches[best_match_index]:\n",
    "                name = known_face_names[best_match_index]\n",
    "                if c==0:\n",
    "                    doc_ref = db.collection('notifications').document()\n",
    "                    print(\"criminal detected\")\n",
    "                    current_time = datetime.datetime.now(timezone(\"Asia/Kolkata\"))\n",
    "                    \n",
    "                    filename = current_time.strftime(\"%Y%m%d-%H%M%S\") + '.jpg'\n",
    "                    cv2.imwrite(filename, frame)\n",
    "                    _, buffer = cv2.imencode('.jpg',frame)\n",
    "                    base64_str = base64.b64encode(buffer).decode('utf-8')\n",
    "                    doc_ref.set({\n",
    "                        'time':current_time,\n",
    "                        'Criminal ID': 9211,\n",
    "                        'cam_proof':\"data:image/jpeg;base64,\"+base64_str,\n",
    "                        'type': \"criminal\"\n",
    "                    })\n",
    "                c+=1\n",
    "            face_names.append(name)\n",
    "\n",
    "    process_this_frame = not process_this_frame\n",
    "    # Display the results\n",
    "    for (top, right, bottom, left), name in zip(face_locations, face_names):\n",
    "        top *= 4\n",
    "        right *= 4\n",
    "        bottom *= 4\n",
    "        left *= 4\n",
    "    # Draw a rectangle around the face\n",
    "        cv2.rectangle(frame, (left, top), (right, bottom), (32, 32, 234), 2)\n",
    "        cv2.line(frame,(left,top+80),(left+20,top+80),(0,0,255),3)\n",
    "        cv2.line(frame,(left-20,top+80),(left,top+80),(0,0,255),3)\n",
    "        cv2.line(frame,(left+80,top),(left+80,top-20),(0,0,255),3)\n",
    "        cv2.line(frame,(left+80,top),(left+80,top-20),(0,0,255),3)\n",
    "        cv2.line(frame,(left+80,top),(left+80,top+20),(0,0,255),3)\n",
    "        cv2.line(frame,(right,bottom-80),(right+20,bottom-80),(0,0,255),3)\n",
    "        cv2.line(frame,(right,bottom-80),(right-20,bottom-80),(0,0,255),3)\n",
    "        cv2.line(frame,(right-80,bottom),(right-80,bottom+20),(0,0,255),3)\n",
    "        cv2.line(frame,(right-80,bottom),(right-80,bottom-20),(0,0,255),3)\n",
    "    # Input text label with a name below the face\n",
    "        cv2.rectangle(frame, (left, bottom - 35), (right, bottom), (32, 32, 234), cv2.FILLED)\n",
    "        font = cv2.FONT_HERSHEY_DUPLEX\n",
    "        cv2.putText(frame, name, (left + 6, bottom - 6), font, 1.0, (255, 255, 255), 1)\n",
    "    # Display the resulting image\n",
    "    cv2.imshow('Video', frame)\n",
    "    # Hit 'q' on the keyboard to quit!\n",
    "    if cv2.waitKey(1) == ord('q'):\n",
    "        break\n",
    "\n",
    "capture.release()\n",
    "cv2.destroyAllWindows()"
   ]
  },
  {
   "cell_type": "code",
   "execution_count": 10,
   "id": "f1fac0cf",
   "metadata": {
    "scrolled": true
   },
   "outputs": [
    {
     "name": "stdout",
     "output_type": "stream",
     "text": [
      "Missing child\n",
      "Name: Ayush\n",
      "Parents name: Amrish Patel\n",
      "Contact no: 6354270450\n"
     ]
    },
    {
     "ename": "TwilioRestException",
     "evalue": "HTTP 400 error: Unable to create record: The 'From' phone number provided (+12187789617) is not a valid message-capable Twilio phone number for this destination",
     "output_type": "error",
     "traceback": [
      "\u001b[1;31m---------------------------------------------------------------------------\u001b[0m",
      "\u001b[1;31mTwilioRestException\u001b[0m                       Traceback (most recent call last)",
      "\u001b[1;32m~\\AppData\\Local\\Temp\\ipykernel_13716\\1383166001.py\u001b[0m in \u001b[0;36m<module>\u001b[1;34m\u001b[0m\n\u001b[0;32m     48\u001b[0m                     \u001b[0mprint\u001b[0m\u001b[1;33m(\u001b[0m\u001b[1;34m\"Parents name: Amrish Patel\"\u001b[0m\u001b[1;33m)\u001b[0m\u001b[1;33m\u001b[0m\u001b[1;33m\u001b[0m\u001b[0m\n\u001b[0;32m     49\u001b[0m                     \u001b[0mprint\u001b[0m\u001b[1;33m(\u001b[0m\u001b[1;34m\"Contact no: 6354270450\"\u001b[0m\u001b[1;33m)\u001b[0m\u001b[1;33m\u001b[0m\u001b[1;33m\u001b[0m\u001b[0m\n\u001b[1;32m---> 50\u001b[1;33m                     message = client.messages.create(\n\u001b[0m\u001b[0;32m     51\u001b[0m                         \u001b[0mbody\u001b[0m \u001b[1;33m=\u001b[0m \u001b[1;34m'We found your missing child at location at Parul University'\u001b[0m\u001b[1;33m,\u001b[0m\u001b[1;33m\u001b[0m\u001b[1;33m\u001b[0m\u001b[0m\n\u001b[0;32m     52\u001b[0m                         \u001b[0mfrom_\u001b[0m\u001b[1;33m=\u001b[0m \u001b[1;34m'+12187789617'\u001b[0m\u001b[1;33m,\u001b[0m\u001b[1;33m\u001b[0m\u001b[1;33m\u001b[0m\u001b[0m\n",
      "\u001b[1;32m~\\AppData\\Roaming\\Python\\Python39\\site-packages\\twilio\\rest\\api\\v2010\\account\\message\\__init__.py\u001b[0m in \u001b[0;36mcreate\u001b[1;34m(self, to, status_callback, application_sid, max_price, provide_feedback, attempt, validity_period, force_delivery, content_retention, address_retention, smart_encoded, persistent_action, shorten_urls, schedule_type, send_at, send_as_mms, content_variables, from_, messaging_service_sid, body, media_url, content_sid)\u001b[0m\n\u001b[0;32m    549\u001b[0m         )\n\u001b[0;32m    550\u001b[0m \u001b[1;33m\u001b[0m\u001b[0m\n\u001b[1;32m--> 551\u001b[1;33m         payload = self._version.create(\n\u001b[0m\u001b[0;32m    552\u001b[0m             \u001b[0mmethod\u001b[0m\u001b[1;33m=\u001b[0m\u001b[1;34m\"POST\"\u001b[0m\u001b[1;33m,\u001b[0m\u001b[1;33m\u001b[0m\u001b[1;33m\u001b[0m\u001b[0m\n\u001b[0;32m    553\u001b[0m             \u001b[0muri\u001b[0m\u001b[1;33m=\u001b[0m\u001b[0mself\u001b[0m\u001b[1;33m.\u001b[0m\u001b[0m_uri\u001b[0m\u001b[1;33m,\u001b[0m\u001b[1;33m\u001b[0m\u001b[1;33m\u001b[0m\u001b[0m\n",
      "\u001b[1;32m~\\AppData\\Roaming\\Python\\Python39\\site-packages\\twilio\\base\\version.py\u001b[0m in \u001b[0;36mcreate\u001b[1;34m(self, method, uri, params, data, headers, auth, timeout, allow_redirects)\u001b[0m\n\u001b[0;32m    463\u001b[0m         )\n\u001b[0;32m    464\u001b[0m \u001b[1;33m\u001b[0m\u001b[0m\n\u001b[1;32m--> 465\u001b[1;33m         \u001b[1;32mreturn\u001b[0m \u001b[0mself\u001b[0m\u001b[1;33m.\u001b[0m\u001b[0m_parse_create\u001b[0m\u001b[1;33m(\u001b[0m\u001b[0mmethod\u001b[0m\u001b[1;33m,\u001b[0m \u001b[0muri\u001b[0m\u001b[1;33m,\u001b[0m \u001b[0mresponse\u001b[0m\u001b[1;33m)\u001b[0m\u001b[1;33m\u001b[0m\u001b[1;33m\u001b[0m\u001b[0m\n\u001b[0m\u001b[0;32m    466\u001b[0m \u001b[1;33m\u001b[0m\u001b[0m\n\u001b[0;32m    467\u001b[0m     async def create_async(\n",
      "\u001b[1;32m~\\AppData\\Roaming\\Python\\Python39\\site-packages\\twilio\\base\\version.py\u001b[0m in \u001b[0;36m_parse_create\u001b[1;34m(self, method, uri, response)\u001b[0m\n\u001b[0;32m    434\u001b[0m         \"\"\"\n\u001b[0;32m    435\u001b[0m         \u001b[1;32mif\u001b[0m \u001b[0mresponse\u001b[0m\u001b[1;33m.\u001b[0m\u001b[0mstatus_code\u001b[0m \u001b[1;33m<\u001b[0m \u001b[1;36m200\u001b[0m \u001b[1;32mor\u001b[0m \u001b[0mresponse\u001b[0m\u001b[1;33m.\u001b[0m\u001b[0mstatus_code\u001b[0m \u001b[1;33m>=\u001b[0m \u001b[1;36m300\u001b[0m\u001b[1;33m:\u001b[0m\u001b[1;33m\u001b[0m\u001b[1;33m\u001b[0m\u001b[0m\n\u001b[1;32m--> 436\u001b[1;33m             \u001b[1;32mraise\u001b[0m \u001b[0mself\u001b[0m\u001b[1;33m.\u001b[0m\u001b[0mexception\u001b[0m\u001b[1;33m(\u001b[0m\u001b[0mmethod\u001b[0m\u001b[1;33m,\u001b[0m \u001b[0muri\u001b[0m\u001b[1;33m,\u001b[0m \u001b[0mresponse\u001b[0m\u001b[1;33m,\u001b[0m \u001b[1;34m\"Unable to create record\"\u001b[0m\u001b[1;33m)\u001b[0m\u001b[1;33m\u001b[0m\u001b[1;33m\u001b[0m\u001b[0m\n\u001b[0m\u001b[0;32m    437\u001b[0m \u001b[1;33m\u001b[0m\u001b[0m\n\u001b[0;32m    438\u001b[0m         \u001b[1;32mreturn\u001b[0m \u001b[0mjson\u001b[0m\u001b[1;33m.\u001b[0m\u001b[0mloads\u001b[0m\u001b[1;33m(\u001b[0m\u001b[0mresponse\u001b[0m\u001b[1;33m.\u001b[0m\u001b[0mtext\u001b[0m\u001b[1;33m)\u001b[0m\u001b[1;33m\u001b[0m\u001b[1;33m\u001b[0m\u001b[0m\n",
      "\u001b[1;31mTwilioRestException\u001b[0m: HTTP 400 error: Unable to create record: The 'From' phone number provided (+12187789617) is not a valid message-capable Twilio phone number for this destination"
     ]
    }
   ],
   "source": [
    "import face_recognition\n",
    "import cv2\n",
    "import numpy as np\n",
    "import datetime\n",
    "from twilio.rest import Client\n",
    "import base64\n",
    "from pytz import timezone\n",
    "\n",
    "db = firestore.client()\n",
    "\n",
    "srk_image = face_recognition.load_image_file(\"C:/Users/AYUSH/Downloads/WhatsApp Image 2024-02-05 at 23.50.00_ff846210.jpg\")\n",
    "srk_image_encoding = face_recognition.face_encodings(srk_image)[0]\n",
    "\n",
    "account_sid = 'AC808ce16b9bafd62a8981f2e2f0c924fe'\n",
    "auth_token = '679fb3d924bcd37fc5cb0cddb57311d9'\n",
    "client = Client(account_sid, auth_token)\n",
    "\n",
    "known_face_encodings = [srk_image_encoding]\n",
    "known_face_names = [\"Missing Child\"]\n",
    "c=0\n",
    "face_locations = []\n",
    "face_encodings = []\n",
    "face_names = []\n",
    "process_this_frame = True\n",
    "\n",
    "capture = cv2.VideoCapture(0)\n",
    "\n",
    "while True:\n",
    "    ret, frame = capture.read()\n",
    "\n",
    "    small_frame = cv2.resize(frame, (0, 0), fx=0.25, fy=0.25)\n",
    "    rgb_small_frame = small_frame[:, :, ::-1]\n",
    "\n",
    "    if process_this_frame:\n",
    "        face_locations = face_recognition.face_locations(rgb_small_frame)\n",
    "        face_encodings = face_recognition.face_encodings(rgb_small_frame, face_locations)\n",
    "        face_names = []\n",
    "        for face_encoding in face_encodings:\n",
    "            matches = face_recognition.compare_faces(known_face_encodings, face_encoding)\n",
    "            name = \"Unknown\"\n",
    "            face_distances = face_recognition.face_distance(known_face_encodings, face_encoding)\n",
    "            best_match_index = np.argmin(face_distances)\n",
    "            if matches[best_match_index]:\n",
    "                name = known_face_names[best_match_index]\n",
    "                if c==0:\n",
    "                    print(\"Missing child\")\n",
    "                    print(\"Name: Ayush\")\n",
    "                    print(\"Parents name: Amrish Patel\")\n",
    "                    print(\"Contact no: 6354270450\")\n",
    "                    message = client.messages.create(\n",
    "                        body = 'We found your missing child at location at Parul University',\n",
    "                        from_= '+12187789617',\n",
    "                        to = '+916354270450'\n",
    "                    )\n",
    "                    doc_ref = db.collection('notifications').document()\n",
    "                    current_time = datetime.datetime.now(timezone(\"Asia/Kolkata\"))\n",
    "                    \n",
    "                    filename = current_time.strftime(\"%Y%m%d-%H%M%S\") + '.jpg'\n",
    "                    cv2.imwrite(filename, frame)\n",
    "                    _, buffer = cv2.imencode('.jpg',frame)\n",
    "                    base64_str = base64.b64encode(buffer).decode('utf-8')\n",
    "                    doc_ref.set({\n",
    "                        'time':current_time,\n",
    "                        'children ID': 6354,\n",
    "                        'cam_proof':\"data:image/jpeg;base64,\"+base64_str,\n",
    "                        'type': \"child\"\n",
    "                    })\n",
    "                    \n",
    "                c+=1\n",
    "            face_names.append(name)\n",
    "\n",
    "    process_this_frame = not process_this_frame\n",
    "    # Display the results\n",
    "    for (top, right, bottom, left), name in zip(face_locations, face_names):\n",
    "        top *= 4\n",
    "        right *= 4\n",
    "        bottom *= 4\n",
    "        left *= 4\n",
    "    # Draw a rectangle around the face\n",
    "        cv2.rectangle(frame, (left, top), (right, bottom), (32, 32, 234), 2)\n",
    "        cv2.line(frame,(left,top+80),(left+20,top+80),(0,0,255),3)\n",
    "        cv2.line(frame,(left-20,top+80),(left,top+80),(0,0,255),3)\n",
    "        cv2.line(frame,(left+80,top),(left+80,top-20),(0,0,255),3)\n",
    "        cv2.line(frame,(left+80,top),(left+80,top-20),(0,0,255),3)\n",
    "        cv2.line(frame,(left+80,top),(left+80,top+20),(0,0,255),3)\n",
    "        cv2.line(frame,(right,bottom-80),(right+20,bottom-80),(0,0,255),3)\n",
    "        cv2.line(frame,(right,bottom-80),(right-20,bottom-80),(0,0,255),3)\n",
    "        cv2.line(frame,(right-80,bottom),(right-80,bottom+20),(0,0,255),3)\n",
    "        cv2.line(frame,(right-80,bottom),(right-80,bottom-20),(0,0,255),3)\n",
    "    # Input text label with a name below the face\n",
    "        cv2.rectangle(frame, (left, bottom - 35), (right, bottom), (32, 32, 234), cv2.FILLED)\n",
    "        font = cv2.FONT_HERSHEY_DUPLEX\n",
    "        cv2.putText(frame, name, (left + 6, bottom - 6), font, 1.0, (255, 255, 255), 1)\n",
    "    # Display the resulting image\n",
    "    cv2.imshow('Video', frame)\n",
    "    # Hit 'q' on the keyboard to quit!\n",
    "    if cv2.waitKey(1) == ord('q'):\n",
    "        break\n",
    "\n",
    "capture.release()\n",
    "cv2.destroyAllWindows()"
   ]
  },
  {
   "cell_type": "code",
   "execution_count": null,
   "id": "7b8bb1be",
   "metadata": {},
   "outputs": [],
   "source": []
  }
 ],
 "metadata": {
  "kernelspec": {
   "display_name": "Python 3 (ipykernel)",
   "language": "python",
   "name": "python3"
  },
  "language_info": {
   "codemirror_mode": {
    "name": "ipython",
    "version": 3
   },
   "file_extension": ".py",
   "mimetype": "text/x-python",
   "name": "python",
   "nbconvert_exporter": "python",
   "pygments_lexer": "ipython3",
   "version": "3.9.13"
  }
 },
 "nbformat": 4,
 "nbformat_minor": 5
}
